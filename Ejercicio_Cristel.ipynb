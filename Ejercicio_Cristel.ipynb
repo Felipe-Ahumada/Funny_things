{
 "cells": [
  {
   "cell_type": "markdown",
   "id": "bb963a5e",
   "metadata": {},
   "source": [
    "## pH concentration"
   ]
  },
  {
   "cell_type": "code",
   "execution_count": 1,
   "id": "0b647b69",
   "metadata": {},
   "outputs": [],
   "source": [
    "import math"
   ]
  },
  {
   "cell_type": "code",
   "execution_count": 1,
   "id": "59ded16a",
   "metadata": {},
   "outputs": [],
   "source": [
    "def calculo_ph(ci,Ka):\n",
    "    a = 1\n",
    "    b = Ka + 1.0e-7\n",
    "    c = ci * Ka\n",
    "\n",
    "    D = b**2 -4*a*c\n",
    "    #We made the calculus of the discriminant with Ka and ci positive\n",
    "    if Ka > 0 and ci >0:\n",
    "        if D > 0:\n",
    "            x1 = (-b + math.sqrt(D)) / (2 * a)\n",
    "            x2 = (-b + math.sqrt(D)) / (2 * a)\n",
    "            x = max(x1,x2)\n",
    "            ph = -math.log10(x + 1.0e-7)\n",
    "        elif D == 0:\n",
    "            x = (-b) / (2*a)\n",
    "            ph = -math.log10(x + 1.0e-7)\n",
    "        else:\n",
    "            ph = print(\"no tiene solución\")\n",
    "    return ph"
   ]
  },
  {
   "cell_type": "code",
   "execution_count": 3,
   "id": "a2feeb42",
   "metadata": {},
   "outputs": [
    {
     "data": {
      "text/plain": [
       "7.002176915573296"
      ]
     },
     "execution_count": 3,
     "metadata": {},
     "output_type": "execute_result"
    }
   ],
   "source": [
    "calculo_ph(5e-10,5.9e-2)"
   ]
  },
  {
   "cell_type": "markdown",
   "id": "f8a5c111",
   "metadata": {},
   "source": [
    "def calculo_pH(ci,Ka):\n",
    "    "
   ]
  },
  {
   "cell_type": "markdown",
   "id": "bc10ec68",
   "metadata": {},
   "source": []
  }
 ],
 "metadata": {
  "kernelspec": {
   "display_name": "Python 3",
   "language": "python",
   "name": "python3"
  },
  "language_info": {
   "codemirror_mode": {
    "name": "ipython",
    "version": 3
   },
   "file_extension": ".py",
   "mimetype": "text/x-python",
   "name": "python",
   "nbconvert_exporter": "python",
   "pygments_lexer": "ipython3",
   "version": "3.12.6"
  }
 },
 "nbformat": 4,
 "nbformat_minor": 5
}
